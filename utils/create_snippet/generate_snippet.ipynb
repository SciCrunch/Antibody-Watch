{
 "cells": [
  {
   "cell_type": "markdown",
   "metadata": {},
   "source": [
    "# Antibody Specification"
   ]
  },
  {
   "cell_type": "markdown",
   "metadata": {},
   "source": [
    "## First Phase: Extract all possible data"
   ]
  },
  {
   "cell_type": "markdown",
   "metadata": {},
   "source": [
    "### Create Training dataset"
   ]
  },
  {
   "cell_type": "markdown",
   "metadata": {},
   "source": [
    "**Step 1**  \n",
    "Get a list containing PMCID and PMID from ```pmcids-pmids.txt```"
   ]
  },
  {
   "cell_type": "code",
   "execution_count": 1,
   "metadata": {},
   "outputs": [],
   "source": [
    "with open('resources/pmcids-pmids.txt', 'r') as file:\n",
    "    lines = file.readlines()"
   ]
  },
  {
   "cell_type": "markdown",
   "metadata": {},
   "source": [
    "Each lines seperate PMID and PMCID"
   ]
  },
  {
   "cell_type": "code",
   "execution_count": 2,
   "metadata": {},
   "outputs": [],
   "source": [
    "list_of_pmids_and_pmcids = []"
   ]
  },
  {
   "cell_type": "code",
   "execution_count": 3,
   "metadata": {},
   "outputs": [],
   "source": [
    "for line in lines:\n",
    "    sep_line = line.split('\\t')\n",
    "    pmid = sep_line[0]\n",
    "    pmcid = sep_line[1].replace('\\n', '')\n",
    "    \n",
    "    list_of_pmids_and_pmcids.append({ 'pmid': pmid, 'pmcid': pmcid })"
   ]
  },
  {
   "cell_type": "markdown",
   "metadata": {},
   "source": [
    "**Step 2**  \n",
    "find the snippets from nxml file"
   ]
  },
  {
   "cell_type": "code",
   "execution_count": 4,
   "metadata": {},
   "outputs": [],
   "source": [
    "from xml.etree import ElementTree\n",
    "from tqdm import trange\n",
    "import pprint\n",
    "import re\n",
    "from nltk.tokenize import sent_tokenize\n",
    "import nltk"
   ]
  },
  {
   "cell_type": "code",
   "execution_count": 5,
   "metadata": {},
   "outputs": [
    {
     "name": "stderr",
     "output_type": "stream",
     "text": [
      "[nltk_data] Downloading package punkt to /home/ploy/nltk_data...\n",
      "[nltk_data]   Package punkt is already up-to-date!\n"
     ]
    },
    {
     "data": {
      "text/plain": [
       "True"
      ]
     },
     "execution_count": 5,
     "metadata": {},
     "output_type": "execute_result"
    }
   ],
   "source": [
    "nltk.download('punkt')"
   ]
  },
  {
   "cell_type": "markdown",
   "metadata": {},
   "source": [
    "Find only ```<p>``` and then extract the sentences we want (find the regex pattern):\n",
    "  \n",
    "All others tags in ```<p>``` I convert them back to string and remove the xml tag out. \n",
    "- (S|s)pecific\n",
    "- (B|b)ackground staining\n",
    "- (C|c)ross( |-)reactiv"
   ]
  },
  {
   "cell_type": "code",
   "execution_count": 6,
   "metadata": {},
   "outputs": [],
   "source": [
    "def remove_xml_tags(text):\n",
    "    clean = re.compile('<.*?>')\n",
    "    return re.sub(clean, '', text)"
   ]
  },
  {
   "cell_type": "code",
   "execution_count": 7,
   "metadata": {},
   "outputs": [],
   "source": [
    "def extract_snippets(text):\n",
    "    \"\"\"\n",
    "    extract snippets from each paragraph\n",
    "    \"\"\"\n",
    "    snippets = []\n",
    "    define_words = ['(S|s)pecific', '((B|b)ackground staining)', '(C|c)ross( |-)reactiv']\n",
    "    # split sentences from text\n",
    "    split_texts = sent_tokenize(text)\n",
    "    for word in define_words:\n",
    "        snippet = []\n",
    "        # find snippet which contains define_words\n",
    "        for s_index in range(len(split_texts)):\n",
    "            word_contain = re.findall(r\"([^.]*?%s[^.]*\\.)\" % word, split_texts[s_index])\n",
    "            if len(word_contain) != 0:\n",
    "                snip = ''\n",
    "                if s_index - 1 >= 0:\n",
    "                    snip = snip + split_texts[s_index-1] + '\\n'\n",
    "                snip = snip + split_texts[s_index] + '\\n'\n",
    "                if s_index + 1 < len(split_texts):\n",
    "                    snip = snip + split_texts[s_index+1] + '\\n'\n",
    "                \n",
    "                # check duplicate sentences in snippet\n",
    "                is_contain = False\n",
    "                for s_i in range(len(snippet)):\n",
    "                    if len(snippet[s_i]) < len(snip):\n",
    "                        if snippet[s_i] in snip:\n",
    "                            snippet[s_i] = snip\n",
    "                            is_contain = True\n",
    "                            break\n",
    "                if is_contain == False:\n",
    "                    snippet.append(snip)\n",
    "        if len(snippet) != 0:\n",
    "            snippets.append(set(snippet))\n",
    "    if len(snippets) != 0:\n",
    "        return snippets\n",
    "    return None"
   ]
  },
  {
   "cell_type": "code",
   "execution_count": 8,
   "metadata": {},
   "outputs": [],
   "source": [
    "snippet_list = []\n",
    "\n",
    "def find_paragraph(node):\n",
    "    \"\"\"\n",
    "    find snippets in each <p>\n",
    "    \"\"\"\n",
    "    global snippet_list\n",
    "    if node.tag == 'p':\n",
    "        # convert all contents in <p> to string\n",
    "        xml_str = ElementTree.tostring(node).decode('utf-8')\n",
    "        text = remove_xml_tags(xml_str)\n",
    "\n",
    "        if node.text is not None:\n",
    "            snippets = extract_snippets(text)\n",
    "            if snippets is not None:\n",
    "                snippet_list.append(snippets)\n",
    "    for child in node:\n",
    "        find_paragraph(child)\n",
    "    \n",
    "    return snippet_list"
   ]
  },
  {
   "cell_type": "code",
   "execution_count": 9,
   "metadata": {},
   "outputs": [],
   "source": [
    "def get_snippets(tree):\n",
    "    \"\"\"\n",
    "    get snippets from each file\n",
    "    \"\"\"\n",
    "    global snippet_list\n",
    "    snippets = []\n",
    "    node = tree.find('./body')\n",
    "\n",
    "    for elem in node:\n",
    "        snippet = find_paragraph(elem)\n",
    "        snippets.extend(snippet)\n",
    "        snippet_list = []\n",
    "        \n",
    "    if snippets is not None and len(snippets) != 0:\n",
    "        return snippets\n",
    "    return None"
   ]
  },
  {
   "cell_type": "markdown",
   "metadata": {},
   "source": [
    "Resources Papers path"
   ]
  },
  {
   "cell_type": "code",
   "execution_count": 10,
   "metadata": {},
   "outputs": [],
   "source": [
    "resources_path = 'resources/papers_4chunnan/'"
   ]
  },
  {
   "cell_type": "code",
   "execution_count": 11,
   "metadata": {},
   "outputs": [],
   "source": [
    "def clean_snippet(snip):\n",
    "    snip = snip.replace('\\n', ' ')\n",
    "    return snip[:-1]"
   ]
  },
  {
   "cell_type": "markdown",
   "metadata": {},
   "source": [
    "```outputs``` will contains the dict of outputs that we will save in ```.tsv``` file later."
   ]
  },
  {
   "cell_type": "code",
   "execution_count": 12,
   "metadata": {},
   "outputs": [],
   "source": [
    "outputs = []"
   ]
  },
  {
   "cell_type": "markdown",
   "metadata": {},
   "source": [
    "To parse the file, pass an open file handle to parse()  \n",
    "It will read the data, parse the XML, and return an ElementTree object"
   ]
  },
  {
   "cell_type": "code",
   "execution_count": 13,
   "metadata": {},
   "outputs": [
    {
     "name": "stderr",
     "output_type": "stream",
     "text": [
      "reading and finding snippets in file: 100%|██████████| 2223/2223 [14:09<00:00,  2.62it/s]\n"
     ]
    }
   ],
   "source": [
    "for index in trange(len(list_of_pmids_and_pmcids), desc='reading and finding snippets in file'):\n",
    "    with open(resources_path + list_of_pmids_and_pmcids[index]['pmcid'] + '.nxml', 'rt') as file:\n",
    "        tree = ElementTree.parse(file)\n",
    "        snippets = get_snippets(tree)\n",
    "        if snippets is not None:\n",
    "            for snips in snippets:\n",
    "                for paragraphs in snips:\n",
    "                    for paragraph in paragraphs:\n",
    "                        outputs.append(\n",
    "                            { \n",
    "                              'pmid': list_of_pmids_and_pmcids[index]['pmid'], \n",
    "                              'pmcid': list_of_pmids_and_pmcids[index]['pmcid'], \n",
    "                              'snippet': clean_snippet(paragraph)\n",
    "                            }\n",
    "                        )"
   ]
  },
  {
   "cell_type": "code",
   "execution_count": 14,
   "metadata": {},
   "outputs": [
    {
     "data": {
      "text/plain": [
       "22013"
      ]
     },
     "execution_count": 14,
     "metadata": {},
     "output_type": "execute_result"
    }
   ],
   "source": [
    "len(outputs)"
   ]
  },
  {
   "cell_type": "markdown",
   "metadata": {},
   "source": [
    "**Step 3**  \n",
    "Write outputs to file ```.tsv```  \n",
    "The pattern is ```PMID\\tPMCID\\tSnippet\\tAntibody related?\\tSpecificity?\\n```    \n",
    "In which antibody related? and specificity? are empty."
   ]
  },
  {
   "cell_type": "code",
   "execution_count": 15,
   "metadata": {},
   "outputs": [],
   "source": [
    "file = open('train_ex_antibody.tsv', 'a')"
   ]
  },
  {
   "cell_type": "code",
   "execution_count": 16,
   "metadata": {},
   "outputs": [
    {
     "data": {
      "text/plain": [
       "54"
      ]
     },
     "execution_count": 16,
     "metadata": {},
     "output_type": "execute_result"
    }
   ],
   "source": [
    "file.write('SID\\tAntibody related?\\tSpecificity?\\tPMID\\tPMCID\\tSnippet\\n')"
   ]
  },
  {
   "cell_type": "code",
   "execution_count": 17,
   "metadata": {},
   "outputs": [
    {
     "name": "stderr",
     "output_type": "stream",
     "text": [
      "writing to file : 100%|██████████| 22013/22013 [00:00<00:00, 347294.23it/s]\n"
     ]
    }
   ],
   "source": [
    "for article_index in trange(len(outputs), desc='writing to file '):\n",
    "    file.write('%d\\t\\t\\t%s\\t%s\\t%s\\n' % (article_index,\n",
    "                                       outputs[article_index]['pmid'], \n",
    "                                       outputs[article_index]['pmcid'], \n",
    "                                       outputs[article_index]['snippet']))"
   ]
  },
  {
   "cell_type": "code",
   "execution_count": 18,
   "metadata": {},
   "outputs": [],
   "source": [
    "file.close()"
   ]
  },
  {
   "cell_type": "markdown",
   "metadata": {},
   "source": [
    "### Some Example from training dataset"
   ]
  },
  {
   "cell_type": "code",
   "execution_count": 19,
   "metadata": {},
   "outputs": [],
   "source": [
    "import pandas as pd\n",
    "import numpy as np"
   ]
  },
  {
   "cell_type": "code",
   "execution_count": 20,
   "metadata": {},
   "outputs": [],
   "source": [
    "df = pd.read_csv('train_ex_antibody.tsv', sep='\\t')"
   ]
  },
  {
   "cell_type": "code",
   "execution_count": 21,
   "metadata": {},
   "outputs": [
    {
     "data": {
      "text/html": [
       "<div>\n",
       "<style scoped>\n",
       "    .dataframe tbody tr th:only-of-type {\n",
       "        vertical-align: middle;\n",
       "    }\n",
       "\n",
       "    .dataframe tbody tr th {\n",
       "        vertical-align: top;\n",
       "    }\n",
       "\n",
       "    .dataframe thead th {\n",
       "        text-align: right;\n",
       "    }\n",
       "</style>\n",
       "<table border=\"1\" class=\"dataframe\">\n",
       "  <thead>\n",
       "    <tr style=\"text-align: right;\">\n",
       "      <th></th>\n",
       "      <th>SID</th>\n",
       "      <th>Antibody related?</th>\n",
       "      <th>Specificity?</th>\n",
       "      <th>PMID</th>\n",
       "      <th>PMCID</th>\n",
       "      <th>Snippet</th>\n",
       "    </tr>\n",
       "  </thead>\n",
       "  <tbody>\n",
       "    <tr>\n",
       "      <td>0</td>\n",
       "      <td>0</td>\n",
       "      <td>NaN</td>\n",
       "      <td>NaN</td>\n",
       "      <td>20723247</td>\n",
       "      <td>PMC2936283</td>\n",
       "      <td>To study a functional role of D-glucuronyl C5-...</td>\n",
       "    </tr>\n",
       "    <tr>\n",
       "      <td>1</td>\n",
       "      <td>1</td>\n",
       "      <td>NaN</td>\n",
       "      <td>NaN</td>\n",
       "      <td>20723247</td>\n",
       "      <td>PMC2936283</td>\n",
       "      <td>Thus, our results suggest D-glucuronyl C5-epim...</td>\n",
       "    </tr>\n",
       "    <tr>\n",
       "      <td>2</td>\n",
       "      <td>2</td>\n",
       "      <td>NaN</td>\n",
       "      <td>NaN</td>\n",
       "      <td>20723247</td>\n",
       "      <td>PMC2936283</td>\n",
       "      <td>Recent data reveal that there is extensive cro...</td>\n",
       "    </tr>\n",
       "    <tr>\n",
       "      <td>3</td>\n",
       "      <td>3</td>\n",
       "      <td>NaN</td>\n",
       "      <td>NaN</td>\n",
       "      <td>21654676</td>\n",
       "      <td>PMC3137399</td>\n",
       "      <td>Multiplex and quantitative RT&amp;#8211;PCR analys...</td>\n",
       "    </tr>\n",
       "    <tr>\n",
       "      <td>4</td>\n",
       "      <td>4</td>\n",
       "      <td>NaN</td>\n",
       "      <td>NaN</td>\n",
       "      <td>22216273</td>\n",
       "      <td>PMC3247256</td>\n",
       "      <td>The family of AUF1 proteins appears to be able...</td>\n",
       "    </tr>\n",
       "  </tbody>\n",
       "</table>\n",
       "</div>"
      ],
      "text/plain": [
       "   SID  Antibody related?  Specificity?      PMID       PMCID  \\\n",
       "0    0                NaN           NaN  20723247  PMC2936283   \n",
       "1    1                NaN           NaN  20723247  PMC2936283   \n",
       "2    2                NaN           NaN  20723247  PMC2936283   \n",
       "3    3                NaN           NaN  21654676  PMC3137399   \n",
       "4    4                NaN           NaN  22216273  PMC3247256   \n",
       "\n",
       "                                             Snippet  \n",
       "0  To study a functional role of D-glucuronyl C5-...  \n",
       "1  Thus, our results suggest D-glucuronyl C5-epim...  \n",
       "2  Recent data reveal that there is extensive cro...  \n",
       "3  Multiplex and quantitative RT&#8211;PCR analys...  \n",
       "4  The family of AUF1 proteins appears to be able...  "
      ]
     },
     "execution_count": 21,
     "metadata": {},
     "output_type": "execute_result"
    }
   ],
   "source": [
    "df.head()"
   ]
  },
  {
   "cell_type": "code",
   "execution_count": 22,
   "metadata": {},
   "outputs": [
    {
     "data": {
      "text/html": [
       "<div>\n",
       "<style scoped>\n",
       "    .dataframe tbody tr th:only-of-type {\n",
       "        vertical-align: middle;\n",
       "    }\n",
       "\n",
       "    .dataframe tbody tr th {\n",
       "        vertical-align: top;\n",
       "    }\n",
       "\n",
       "    .dataframe thead th {\n",
       "        text-align: right;\n",
       "    }\n",
       "</style>\n",
       "<table border=\"1\" class=\"dataframe\">\n",
       "  <thead>\n",
       "    <tr style=\"text-align: right;\">\n",
       "      <th></th>\n",
       "      <th>SID</th>\n",
       "      <th>Antibody related?</th>\n",
       "      <th>Specificity?</th>\n",
       "      <th>PMID</th>\n",
       "      <th>PMCID</th>\n",
       "      <th>Snippet</th>\n",
       "    </tr>\n",
       "  </thead>\n",
       "  <tbody>\n",
       "    <tr>\n",
       "      <td>9</td>\n",
       "      <td>9</td>\n",
       "      <td>NaN</td>\n",
       "      <td>NaN</td>\n",
       "      <td>23390418</td>\n",
       "      <td>PMC3565217</td>\n",
       "      <td>Panx1 has been proposed to fulfill a function ...</td>\n",
       "    </tr>\n",
       "    <tr>\n",
       "      <td>10</td>\n",
       "      <td>10</td>\n",
       "      <td>NaN</td>\n",
       "      <td>NaN</td>\n",
       "      <td>23390418</td>\n",
       "      <td>PMC3565217</td>\n",
       "      <td>For example, in the study of Panx1 knockout mi...</td>\n",
       "    </tr>\n",
       "    <tr>\n",
       "      <td>11</td>\n",
       "      <td>11</td>\n",
       "      <td>NaN</td>\n",
       "      <td>NaN</td>\n",
       "      <td>23390418</td>\n",
       "      <td>PMC3565217</td>\n",
       "      <td>The Diatheva and Dahl antibodies were two of t...</td>\n",
       "    </tr>\n",
       "    <tr>\n",
       "      <td>12</td>\n",
       "      <td>12</td>\n",
       "      <td>NaN</td>\n",
       "      <td>NaN</td>\n",
       "      <td>23390418</td>\n",
       "      <td>PMC3565217</td>\n",
       "      <td>(2011) where in situ hybridization images of P...</td>\n",
       "    </tr>\n",
       "    <tr>\n",
       "      <td>13</td>\n",
       "      <td>13</td>\n",
       "      <td>NaN</td>\n",
       "      <td>NaN</td>\n",
       "      <td>23390418</td>\n",
       "      <td>PMC3565217</td>\n",
       "      <td>Because Western blots are frequently treated a...</td>\n",
       "    </tr>\n",
       "    <tr>\n",
       "      <td>14</td>\n",
       "      <td>14</td>\n",
       "      <td>NaN</td>\n",
       "      <td>NaN</td>\n",
       "      <td>23390418</td>\n",
       "      <td>PMC3565217</td>\n",
       "      <td>Tests of these antibodies on tissue lysates fr...</td>\n",
       "    </tr>\n",
       "    <tr>\n",
       "      <td>15</td>\n",
       "      <td>15</td>\n",
       "      <td>NaN</td>\n",
       "      <td>NaN</td>\n",
       "      <td>23390418</td>\n",
       "      <td>PMC3565217</td>\n",
       "      <td>This antibody was reported to show no immunofl...</td>\n",
       "    </tr>\n",
       "    <tr>\n",
       "      <td>16</td>\n",
       "      <td>16</td>\n",
       "      <td>NaN</td>\n",
       "      <td>NaN</td>\n",
       "      <td>23390418</td>\n",
       "      <td>PMC3565217</td>\n",
       "      <td>Two of these antibodies have already been char...</td>\n",
       "    </tr>\n",
       "    <tr>\n",
       "      <td>17</td>\n",
       "      <td>17</td>\n",
       "      <td>NaN</td>\n",
       "      <td>NaN</td>\n",
       "      <td>23390418</td>\n",
       "      <td>PMC3565217</td>\n",
       "      <td>While not explicitly stated in Locovei et al. ...</td>\n",
       "    </tr>\n",
       "    <tr>\n",
       "      <td>18</td>\n",
       "      <td>18</td>\n",
       "      <td>NaN</td>\n",
       "      <td>NaN</td>\n",
       "      <td>23390418</td>\n",
       "      <td>PMC3565217</td>\n",
       "      <td>Common features provide clues as to how Panx1 ...</td>\n",
       "    </tr>\n",
       "    <tr>\n",
       "      <td>19</td>\n",
       "      <td>19</td>\n",
       "      <td>NaN</td>\n",
       "      <td>NaN</td>\n",
       "      <td>23390418</td>\n",
       "      <td>PMC3565217</td>\n",
       "      <td>Incubation of the peptide used for generating ...</td>\n",
       "    </tr>\n",
       "    <tr>\n",
       "      <td>20</td>\n",
       "      <td>20</td>\n",
       "      <td>NaN</td>\n",
       "      <td>NaN</td>\n",
       "      <td>23390418</td>\n",
       "      <td>PMC3565217</td>\n",
       "      <td>), and showed almost complete overlap with an ...</td>\n",
       "    </tr>\n",
       "    <tr>\n",
       "      <td>21</td>\n",
       "      <td>21</td>\n",
       "      <td>NaN</td>\n",
       "      <td>NaN</td>\n",
       "      <td>23390418</td>\n",
       "      <td>PMC3565217</td>\n",
       "      <td>Interestingly, this brain region had the least...</td>\n",
       "    </tr>\n",
       "    <tr>\n",
       "      <td>22</td>\n",
       "      <td>22</td>\n",
       "      <td>NaN</td>\n",
       "      <td>NaN</td>\n",
       "      <td>23390418</td>\n",
       "      <td>PMC3565217</td>\n",
       "      <td>The latter data suggest a crucial role for Pan...</td>\n",
       "    </tr>\n",
       "    <tr>\n",
       "      <td>23</td>\n",
       "      <td>23</td>\n",
       "      <td>NaN</td>\n",
       "      <td>NaN</td>\n",
       "      <td>23390418</td>\n",
       "      <td>PMC3565217</td>\n",
       "      <td>We showed using Panx1 KO mice as a negative co...</td>\n",
       "    </tr>\n",
       "    <tr>\n",
       "      <td>24</td>\n",
       "      <td>24</td>\n",
       "      <td>NaN</td>\n",
       "      <td>NaN</td>\n",
       "      <td>23390418</td>\n",
       "      <td>PMC3565217</td>\n",
       "      <td>This work focused on imaging Panx1 expression ...</td>\n",
       "    </tr>\n",
       "    <tr>\n",
       "      <td>25</td>\n",
       "      <td>25</td>\n",
       "      <td>NaN</td>\n",
       "      <td>NaN</td>\n",
       "      <td>23390418</td>\n",
       "      <td>PMC3565217</td>\n",
       "      <td>Because of this discrepancy and the difficulty...</td>\n",
       "    </tr>\n",
       "    <tr>\n",
       "      <td>26</td>\n",
       "      <td>26</td>\n",
       "      <td>NaN</td>\n",
       "      <td>NaN</td>\n",
       "      <td>23390418</td>\n",
       "      <td>PMC3565217</td>\n",
       "      <td>(2011) who used an antibody generated against ...</td>\n",
       "    </tr>\n",
       "    <tr>\n",
       "      <td>27</td>\n",
       "      <td>27</td>\n",
       "      <td>NaN</td>\n",
       "      <td>NaN</td>\n",
       "      <td>23390418</td>\n",
       "      <td>PMC3565217</td>\n",
       "      <td>If such identifiers were routinely used, resea...</td>\n",
       "    </tr>\n",
       "    <tr>\n",
       "      <td>28</td>\n",
       "      <td>28</td>\n",
       "      <td>NaN</td>\n",
       "      <td>NaN</td>\n",
       "      <td>23390418</td>\n",
       "      <td>PMC3565217</td>\n",
       "      <td>In our case, we show all Western blots for all...</td>\n",
       "    </tr>\n",
       "    <tr>\n",
       "      <td>29</td>\n",
       "      <td>29</td>\n",
       "      <td>NaN</td>\n",
       "      <td>NaN</td>\n",
       "      <td>23390418</td>\n",
       "      <td>PMC3565217</td>\n",
       "      <td>Thus, with this study we attempt to promote ex...</td>\n",
       "    </tr>\n",
       "  </tbody>\n",
       "</table>\n",
       "</div>"
      ],
      "text/plain": [
       "    SID  Antibody related?  Specificity?      PMID       PMCID  \\\n",
       "9     9                NaN           NaN  23390418  PMC3565217   \n",
       "10   10                NaN           NaN  23390418  PMC3565217   \n",
       "11   11                NaN           NaN  23390418  PMC3565217   \n",
       "12   12                NaN           NaN  23390418  PMC3565217   \n",
       "13   13                NaN           NaN  23390418  PMC3565217   \n",
       "14   14                NaN           NaN  23390418  PMC3565217   \n",
       "15   15                NaN           NaN  23390418  PMC3565217   \n",
       "16   16                NaN           NaN  23390418  PMC3565217   \n",
       "17   17                NaN           NaN  23390418  PMC3565217   \n",
       "18   18                NaN           NaN  23390418  PMC3565217   \n",
       "19   19                NaN           NaN  23390418  PMC3565217   \n",
       "20   20                NaN           NaN  23390418  PMC3565217   \n",
       "21   21                NaN           NaN  23390418  PMC3565217   \n",
       "22   22                NaN           NaN  23390418  PMC3565217   \n",
       "23   23                NaN           NaN  23390418  PMC3565217   \n",
       "24   24                NaN           NaN  23390418  PMC3565217   \n",
       "25   25                NaN           NaN  23390418  PMC3565217   \n",
       "26   26                NaN           NaN  23390418  PMC3565217   \n",
       "27   27                NaN           NaN  23390418  PMC3565217   \n",
       "28   28                NaN           NaN  23390418  PMC3565217   \n",
       "29   29                NaN           NaN  23390418  PMC3565217   \n",
       "\n",
       "                                              Snippet  \n",
       "9   Panx1 has been proposed to fulfill a function ...  \n",
       "10  For example, in the study of Panx1 knockout mi...  \n",
       "11  The Diatheva and Dahl antibodies were two of t...  \n",
       "12  (2011) where in situ hybridization images of P...  \n",
       "13  Because Western blots are frequently treated a...  \n",
       "14  Tests of these antibodies on tissue lysates fr...  \n",
       "15  This antibody was reported to show no immunofl...  \n",
       "16  Two of these antibodies have already been char...  \n",
       "17  While not explicitly stated in Locovei et al. ...  \n",
       "18  Common features provide clues as to how Panx1 ...  \n",
       "19  Incubation of the peptide used for generating ...  \n",
       "20  ), and showed almost complete overlap with an ...  \n",
       "21  Interestingly, this brain region had the least...  \n",
       "22  The latter data suggest a crucial role for Pan...  \n",
       "23  We showed using Panx1 KO mice as a negative co...  \n",
       "24  This work focused on imaging Panx1 expression ...  \n",
       "25  Because of this discrepancy and the difficulty...  \n",
       "26  (2011) who used an antibody generated against ...  \n",
       "27  If such identifiers were routinely used, resea...  \n",
       "28  In our case, we show all Western blots for all...  \n",
       "29  Thus, with this study we attempt to promote ex...  "
      ]
     },
     "execution_count": 22,
     "metadata": {},
     "output_type": "execute_result"
    }
   ],
   "source": [
    "df.loc[df['PMCID'] == 'PMC3565217']"
   ]
  },
  {
   "cell_type": "code",
   "execution_count": 23,
   "metadata": {},
   "outputs": [],
   "source": [
    "examples = np.array(df.loc[df['PMCID'] == 'PMC3565217'])"
   ]
  },
  {
   "cell_type": "code",
   "execution_count": 24,
   "metadata": {},
   "outputs": [
    {
     "name": "stdout",
     "output_type": "stream",
     "text": [
      "---------------------------------------\n",
      "Panx1 has been proposed to fulfill a function in adaptive/inflammation responses following specific stimuli (Sosinsky et al., 2011). Panx1 channels have been shown to release ATP during gustatory channel response in taste bud cells (Romanov et al., 2007), the activation of the immune response in macrophages (Pelegrin and Surprenant, 2006), T lymphocytes (Schenk et al., 2008), and neurons (Silverman et al., 2009), pressure overload-induced fibrosis in the heart (Nishida et al., 2008) and NMDA receptor epileptiform electrical activity in the hippocampus (Thompson et al., 2008).\n",
      "---------------------------------------\n",
      "---------------------------------------\n",
      "For example, in the study of Panx1 knockout mice by Bargiotas et al. (2011) where in situ hybridization images of Panx1 KO brain tissue were devoid of staining for Panx1 transcripts, the authors state that only one antibody (Penuela et al., 2007) out of six tested showed specificity for Panx1 in Western blot of their knockout animals. The Diatheva and Dahl antibodies were two of the five the authors claim to be non-specific.\n",
      "---------------------------------------\n",
      "---------------------------------------\n",
      "The Diatheva and Dahl antibodies were two of the five the authors claim to be non-specific. It has always been the case that specificity of antibodies, particularly when used on intact tissues, is hard if not impossible to prove. By these criteria, the results obtained in Western blots in the present study should cause us to discard our findings.\n",
      "---------------------------------------\n",
      "---------------------------------------\n",
      "(2011) where in situ hybridization images of Panx1 KO brain tissue were devoid of staining for Panx1 transcripts, the authors state that only one antibody (Penuela et al., 2007) out of six tested showed specificity for Panx1 in Western blot of their knockout animals. The Diatheva and Dahl antibodies were two of the five the authors claim to be non-specific. It has always been the case that specificity of antibodies, particularly when used on intact tissues, is hard if not impossible to prove.\n",
      "---------------------------------------\n",
      "---------------------------------------\n",
      "Because Western blots are frequently treated as &#8220;gold standard&#8221; controls, especially when used in combination with KO mouse models, there is the widely held opinion that Western blot bands ultimately determine specificity. A recent publication exemplifies this debate by showing that (1) numerous antibodies pass all tests of specificity except the final test in KO mouse tissue, (2) some antibodies pass all tests of specificity by Western blot, but not when using brain tissue, and (3) numerous antibodies pass all rigorous tests of specificity by Western blot, but fail when used for immunohistochemistry (Herkenham et al., 2011), causing the authors to re-assess the results in previous publications that used those antibodies. In the case of pannexins, immunolabeling results have been unclear and controversial.\n",
      "---------------------------------------\n",
      "---------------------------------------\n",
      "Tests of these antibodies on tissue lysates from two different Panx1 KO mice demonstrate that they recognize Panx1 bands, however additional bands are labeled in the KO for some of the antibodies and these vary between KO animals. Thus, it is still unclear whether differences seen between the four antibodies are due to different epitopes being recognized, non-specificity, or the presence of some residual Panx1 protein in KO tissues. Nevertheless, scientific papers continue to be published with these antibodies and/or these KO mouse models, so we discuss strategies for publishing this kind of data by recommending several standards.\n",
      "---------------------------------------\n",
      "---------------------------------------\n",
      "This antibody was reported to show no immunofluorescence in staining of Panx1 KO mouse tissue (Zoidl et al., 2007) and has been used with several tissues (Ransford et al., 2009; Silverman et al., 2009; Dolmatova et al., 2012). The specificity of CkDia antibody was originally characterized in mouse brain and in transfect cells by Zappala et al. (2006) who demonstrated a single band on Western blot that was absent in parental HeLa cell lysate and eliminated by preabsorbing the antibody with the immunizing antigen.\n",
      "---------------------------------------\n",
      "---------------------------------------\n",
      "Two of these antibodies have already been characterized in publications (CkDia and Ck4515), while the other two were developed by us using a contracted company and validated within our own laboratory. The specificity of the Ck4515 anti-Panx1 antibody was characterized in a previous publication by Western blot and immunofluorescence staining in oocytes, erythrocytes and heart capillaries (Locovei et al., 2006a). While not explicitly stated in Locovei et al.\n",
      "---------------------------------------\n",
      "---------------------------------------\n",
      "While not explicitly stated in Locovei et al. (2006a), the Ck4515 antibody was validated for specificity in exogenously expressing oocytes using peptide competition experiments and incubation with preimmune serum (Gerhard Dahl, personal communication). This antibody was reported to show no immunofluorescence in staining of Panx1 KO mouse tissue (Zoidl et al., 2007) and has been used with several tissues (Ransford et al., 2009; Silverman et al., 2009; Dolmatova et al., 2012).\n",
      "---------------------------------------\n",
      "---------------------------------------\n",
      "Common features provide clues as to how Panx1 is localized to cellular sub-types, while dissimilar labeling may provide information about possible differences between neurons or microenvironments in one area of the brain versus another. It is difficult to point to which antibody is specific or non-specific as the Rb57 antibody produces the most bands in a Western blot, however the overall pattern of labeled cells in brain tissue matches that of the Ck4515 and CkDia with the exception of cells lining the vessels that are not labeled by Ck4515. As noted previously, epitopes are highly conformation dependent and accessibilities may be different in tissues where proteins are folded as opposed to Western blots were proteins are unfolded.\n",
      "---------------------------------------\n",
      "---------------------------------------\n",
      "Incubation of the peptide used for generating Rb57 antibody eliminated immunofluorescence staining in canine cardiac tissue (Dolmatova et al., 2012). Differences in the labeling patterns may also indicate non-specific interactions of the antibody that can occur due to recognition of similar short amino acid sequences. For Panx1, this has been especially problematic (Bargiotas et al., 2011) indicating unanticipated complexity when comparing simple tissue culture systems with intact tissue.\n",
      "---------------------------------------\n",
      "---------------------------------------\n",
      "), and showed almost complete overlap with an antibody for the epitope tag. For immunofluorescence experiments, HeLa cells transiently transfected with Panx1-myc demonstrated the specificity of each of the four anti-Panx1 antibodies based on the overlap of Panx1 with commercial and well-characterized myc antibodies (Figure 2). A negative control omitting primary antibodies from the initial incubation showed no labeling (unpublished results).\n",
      "---------------------------------------\n",
      "---------------------------------------\n",
      "Interestingly, this brain region had the least labeling of Panx1 in astrocytes. It has been shown previously that astrocytes cultured from specific brain regions show differential expression patterns of adrenergic receptors (Ernsberger et al., 1990) and the differing astrocytic labeling we see in the various brain regions could be attributed to this phenomenon.\n",
      "---------------------------------------\n",
      "---------------------------------------\n",
      "The latter data suggest a crucial role for Panx1 in several cell death pathways in the nervous system (Bargiotas et al., 2009; MacVicar and Thompson, 2010), although a recent Panx1 KO mouse showed no morphological changes in brain slices by histological analysis or changes in IL-1&#946; from macrophages (Bargiotas et al., 2011). The authors stated in the on-line supporting information that five out of six commonly used anti-Panx1 antibodies tested on KO mouse tissue in Western blots were &#8220;non-specific,&#8221; however no original data detailing protein specificity from these Western blots or immunofluorescence imaging was provided. It is possible that in actuality some tissues of that particular KO mouse still contain Panx1 protein or again, Western blots are not the only diagnostic to be trusted for Panxs.\n",
      "---------------------------------------\n",
      "---------------------------------------\n",
      "We showed using Panx1 KO mice as a negative control (Figures 3B,C) that these four antibodies recognize Panx1 at its expected sizes as well as some sizes that are not yet explainable. There are some non-specific bands on some of the Western blots that do not disappear in the knock out tissue lysates consistently, as they are only present in some tissue samples. It is worth noting that Qiu et al.\n",
      "---------------------------------------\n",
      "---------------------------------------\n",
      "This work focused on imaging Panx1 expression in select areas of the rat brain and compared their cellular localizations. Although Panx1 antibodies have been criticized for lack of specificity, this comparative labeling study takes into account the differences between antibody epitopes and labeling requirements and utilizes their unique qualities. Uncertainty in the antibodies currently available (both privately and commercially) is due to various reasons.\n",
      "---------------------------------------\n",
      "---------------------------------------\n",
      "Because of this discrepancy and the difficulty in brain tissue preservation, there are few published cellular level images of Panx1 protein expression in brain and all have limited fields of view (Ray et al., 2006; Zappala et al., 2006; Zoidl et al., 2007; Karpuk et al., 2011). We performed these experiments in rat brain because no non-specific cross-reaction would occur due to labeling the same species that the antibodies were generated against (a mouse against mouse reaction).\n",
      "---------------------------------------\n",
      "---------------------------------------\n",
      "(2011) who used an antibody generated against the same peptide as Ck4515 and showed labeling in neurons, astrocytes, and perivascular astrocytic endfeet in hippocampal area CA1. That study also showed no non-specific labeling in KO mouse tissue.\n",
      "---------------------------------------\n",
      "---------------------------------------\n",
      "If such identifiers were routinely used, researchers could pull out all papers that use a particular reagent. More importantly, if problems like specificity come to light, notifications can be placed on those papers whose results may need to be re-analyzed or re-interpreted.\n",
      "---------------------------------------\n",
      "---------------------------------------\n",
      "In our case, we show all Western blots for all antibodies and provide access to the full resolution brain maps via the CCDB. We believe that for novel proteins or those for which it is difficult to develop good probes, the type of survey study we publish here provides a public platform and forum, for evaluating the specificity of the reagents and ensuring that problems with these reagents are widely disseminated rather than suppressed. Often times, such knowledge is known by experts in the field, but it may take years for this knowledge to percolate to the wider community (MacArthur, 2012), leading to continued use of faulty reagents during this time.\n",
      "---------------------------------------\n",
      "---------------------------------------\n",
      "Thus, with this study we attempt to promote explorations that move beyond the question of why peptide specific antibodies do and do not label in brain tissue and instead examine how they work differently, the complexity of the biological system and how to interpret further imaging experiments. Our imaging strategy provides a novel approach such that we release the datasets (montages, associated metadata, and &#8220;raw&#8221; images) in the CCDB in their full size, resolution and complexity rather than presenting only down-sampled and/or redacted images that one typically finds in publications.\n",
      "---------------------------------------\n"
     ]
    }
   ],
   "source": [
    "for ex in examples:\n",
    "    print('---------------------------------------')\n",
    "    print(ex[5])\n",
    "    print('---------------------------------------')"
   ]
  }
 ],
 "metadata": {
  "kernelspec": {
   "display_name": "Python 3",
   "language": "python",
   "name": "python3"
  },
  "language_info": {
   "codemirror_mode": {
    "name": "ipython",
    "version": 3
   },
   "file_extension": ".py",
   "mimetype": "text/x-python",
   "name": "python",
   "nbconvert_exporter": "python",
   "pygments_lexer": "ipython3",
   "version": "3.5.6"
  }
 },
 "nbformat": 4,
 "nbformat_minor": 2
}
